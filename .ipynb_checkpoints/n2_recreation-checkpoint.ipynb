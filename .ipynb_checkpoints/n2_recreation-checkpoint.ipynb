{
 "cells": [
  {
   "cell_type": "code",
   "execution_count": null,
   "id": "aaf71b5e",
   "metadata": {},
   "outputs": [],
   "source": [
    "#Goal: Recreate N2 using custom ECFs\n",
    "import numpy as np\n",
    "import awkward as ak\n",
    "from coffea import processor\n",
    "import json\n",
    "import hist\n",
    "from coffea.nanoevents import NanoEventsFactory, BaseSchema, NanoAODSchema\n",
    "import uproot\n",
    "import warnings\n",
    "import matplotlib.pyplot as plt\n",
    "from lpcjobqueue import LPCCondorCluster\n",
    "from distributed import Client\n",
    "import mplhep as hep\n",
    "import math\n",
    "from coffea.lookup_tools.lookup_base import lookup_base\n",
    "from coffea import util\n",
    "import importlib.resources\n",
    "import gzip\n",
    "import pickle\n",
    "import os\n",
    "import fastjet\n",
    "import math\n",
    "from custom_n2 import distance, e2, e23"
   ]
  },
  {
   "cell_type": "code",
   "execution_count": null,
   "id": "81229c6e",
   "metadata": {},
   "outputs": [],
   "source": [
    "cluster = LPCCondorCluster(ship_env=True, \n",
    "                           transfer_input_files='custom_n2.py', \n",
    "                           log_directory='/uscmst1b_scratch/lpc1/3DayLifetime/cjmoore/mylog',\n",
    "                           memory='7340032000'\n",
    "                          )        \n",
    "LPCCondorCluster()\n",
    "cluster.adapt(minimum=0, maximum=10)\n",
    "client = Client(cluster)"
   ]
  },
  {
   "cell_type": "code",
   "execution_count": null,
   "id": "e920e25c",
   "metadata": {
    "scrolled": false
   },
   "outputs": [],
   "source": [
    "#print(LPCCondorCluster.__doc__)"
   ]
  },
  {
   "cell_type": "code",
   "execution_count": null,
   "id": "cc743c4c",
   "metadata": {},
   "outputs": [],
   "source": [
    "client"
   ]
  },
  {
   "cell_type": "code",
   "execution_count": null,
   "id": "196ee7a3",
   "metadata": {},
   "outputs": [],
   "source": [
    "#json file with signal and background samples\n",
    "with open(\"jsons/qcd_and_more_hj_files.json\") as fin:\n",
    "    filesets = json.load(fin)"
   ]
  },
  {
   "cell_type": "code",
   "execution_count": null,
   "id": "655378c2",
   "metadata": {},
   "outputs": [],
   "source": [
    "#coffea processor\n",
    "with gzip.open(\"corrections.pkl.gz\") as fin:\n",
    "    compiled = pickle.load(fin)\n",
    "from custom_n2 import distance, e2, e23\n",
    "\n",
    "class MyProcessor(processor.ProcessorABC):\n",
    "    \n",
    "    def __init__(self):\n",
    "        pass\n",
    "    \n",
    "    def process(self, events):\n",
    "        dataset = events.metadata['dataset']\n",
    "       \n",
    "        fatjet = events.FatJet\n",
    "        pfcands = events.PFCands\n",
    "        fatjetpfcands = events.FatJetPFCands\n",
    "        \n",
    "        n2 = (\n",
    "            hist.Hist.new\n",
    "            .Reg(60, -1.4, 0.25, name='n2b1', label='N2B1')\n",
    "            .Double()\n",
    "        )\n",
    "        \n",
    "        n2.fill(n2b1=ak.flatten(fatjet.n2b1))\n",
    "        \n",
    "        custom_n2 = (\n",
    "            hist.Hist.new\n",
    "            .Reg(60, -1.4, 0.25, name='my_n2', label='my_n2')\n",
    "            .Double()\n",
    "        )\n",
    "        \n",
    "        #fatjet['n2ddt'] = fatjet.n2b1 - n2ddt_shift(fatjet, year='2017')\n",
    "        fatjet['bespoke_n2b1'] = e2(fatjetpfcands, pfcands, fatjet)/e23(fatjetpfcands, pfcands, fatjet)\n",
    "        \n",
    "        custom_n2.fill(my_n2=ak.flatten(fatjet.bespoke_n2))\n",
    "        \n",
    "        return {\n",
    "            dataset: {\n",
    "                \"entries\": len(events),\n",
    "                \"n2b1\": n2,\n",
    "                \"custom_n2\": custom_n2,\n",
    "            }\n",
    "        }\n",
    "    def postprocess(self, accumulator):\n",
    "        pass"
   ]
  },
  {
   "cell_type": "code",
   "execution_count": null,
   "id": "fd4e5442",
   "metadata": {},
   "outputs": [],
   "source": [
    "#Run processor on LPC condor\n",
    "processor_instance=MyProcessor()\n",
    "futures_run = processor.Runner(\n",
    "    executor = processor.DaskExecutor(client=client),\n",
    "    schema=NanoAODSchema,\n",
    ")\n",
    "\n",
    "out = futures_run(\n",
    "    filesets,\n",
    "    \"Events\",\n",
    "    processor_instance=MyProcessor()\n",
    ")\n",
    "out"
   ]
  },
  {
   "cell_type": "code",
   "execution_count": null,
   "id": "60838de7",
   "metadata": {},
   "outputs": [],
   "source": [
    "#plotting\n",
    "fig, ax = plt.subplots()\n",
    "out['HJ']['n2b1'].plot1d(ax=ax)\n",
    "#out['Hbb']['n2b1'].plot1d(ax=ax)\n",
    "ax.legend(['HJ n2',\n",
    "           'Hbb n2'\n",
    "\n",
    "          ], \n",
    "#           title='Sample Name'\n",
    "         )\n",
    "#plt.title('Hbb')\n",
    "ax.set_xlim([-0.025,0.275])"
   ]
  }
 ],
 "metadata": {
  "kernelspec": {
   "display_name": "Python 3 (ipykernel)",
   "language": "python",
   "name": "python3"
  },
  "language_info": {
   "codemirror_mode": {
    "name": "ipython",
    "version": 3
   },
   "file_extension": ".py",
   "mimetype": "text/x-python",
   "name": "python",
   "nbconvert_exporter": "python",
   "pygments_lexer": "ipython3",
   "version": "3.8.15"
  }
 },
 "nbformat": 4,
 "nbformat_minor": 5
}
